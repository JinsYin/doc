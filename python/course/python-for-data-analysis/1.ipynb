{
 "cells": [
  {
   "cell_type": "markdown",
   "metadata": {},
   "source": [
    "# 第 1 章"
   ]
  },
  {
   "cell_type": "markdown",
   "metadata": {},
   "source": [
    "## 安装 Anaconda3"
   ]
  },
  {
   "cell_type": "markdown",
   "metadata": {},
   "source": [
    "```bash\n",
    "# 下载\n",
    "$ conda_version=5.1.0\n",
    "$ wget -O /tmp/anaconda3.sh https://repo.continuum.io/archive/Anaconda3-${conda_version}-Linux-x86_64.sh\n",
    "$ chmod +x /tmp/anaconda3.sh && /tmp/anaconda3.sh\n",
    "\n",
    "# 校验，校验地址：https://docs.anaconda.com/anaconda/install/hashes/Anaconda3-$(conda_version)-Linux-x86_64.sh-hash\n",
    "$ md5sum /tmp/anaconda3.sh\n",
    "```"
   ]
  },
  {
   "cell_type": "code",
   "execution_count": null,
   "metadata": {},
   "outputs": [],
   "source": [
    "%lsmagic"
   ]
  },
  {
   "cell_type": "code",
   "execution_count": null,
   "metadata": {},
   "outputs": [],
   "source": [
    "%env"
   ]
  },
  {
   "cell_type": "code",
   "execution_count": null,
   "metadata": {},
   "outputs": [],
   "source": [
    "%%bash\n",
    "\n",
    "# 下载\n",
    "$ conda_version=5.1.0\n",
    "$ wget -O /tmp/anaconda3.sh https://repo.continuum.io/archive/Anaconda3-${conda_version}-Linux-x86_64.sh\n",
    "$ chmod +x /tmp/anaconda3.sh && /tmp/anaconda3.sh\n",
    "\n",
    "# 校验，校验地址：https://docs.anaconda.com/anaconda/install/hashes/Anaconda3-$(conda_version)-Linux-x86_64.sh-hash\n",
    "$ md5sum /tmp/anaconda3.sh"
   ]
  },
  {
   "cell_type": "code",
   "execution_count": null,
   "metadata": {},
   "outputs": [],
   "source": [
    "%%markdown\n",
    "\n",
    "# 123\n",
    "\n",
    "* [x](baidu.com)"
   ]
  },
  {
   "cell_type": "code",
   "execution_count": null,
   "metadata": {},
   "outputs": [],
   "source": [
    "print(123)"
   ]
  },
  {
   "cell_type": "code",
   "execution_count": null,
   "metadata": {},
   "outputs": [],
   "source": []
  }
 ],
 "metadata": {
  "kernelspec": {
   "display_name": "Python 3",
   "language": "python",
   "name": "python3"
  },
  "language_info": {
   "codemirror_mode": {
    "name": "ipython",
    "version": 3
   },
   "file_extension": ".py",
   "mimetype": "text/x-python",
   "name": "python",
   "nbconvert_exporter": "python",
   "pygments_lexer": "ipython3",
   "version": "3.4.3"
  }
 },
 "nbformat": 4,
 "nbformat_minor": 2
}
